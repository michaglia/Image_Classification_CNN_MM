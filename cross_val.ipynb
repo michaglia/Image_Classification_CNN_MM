{
  "cells": [
    {
      "cell_type": "markdown",
      "metadata": {
        "id": "o3mCt6_ouRGO"
      },
      "source": [
        "# K-Fold Cross Validation"
      ]
    },
    {
      "cell_type": "markdown",
      "metadata": {
        "id": "5r454ZL_uPCg"
      },
      "source": [
        "### Load Data"
      ]
    },
    {
      "cell_type": "code",
      "execution_count": null,
      "metadata": {
        "id": "EosZPY42_Yij"
      },
      "outputs": [],
      "source": [
        "import numpy as np\n",
        "import tensorflow as tf\n",
        "from sklearn.model_selection import KFold\n",
        "from tensorflow import keras\n",
        "from tensorflow.keras import layers\n",
        "from tensorflow.keras.models import Sequential\n",
        "from tensorflow.keras.layers import Dense, Dropout, Flatten, Activation, InputLayer\n",
        "from tensorflow.keras.layers import Conv2D, MaxPooling2D, BatchNormalization\n",
        "from tensorflow.keras.callbacks import LearningRateScheduler\n",
        "from tensorflow.keras.optimizers import Adam\n",
        "from tensorflow.keras import regularizers\n",
        "from tensorflow.keras.callbacks import EarlyStopping"
      ]
    },
    {
      "cell_type": "code",
      "execution_count": null,
      "metadata": {
        "colab": {
          "base_uri": "https://localhost:8080/"
        },
        "id": "uB_fxu1CwPzB",
        "outputId": "e409cd48-52d9-484d-d7f8-4f0cb5a98311"
      },
      "outputs": [
        {
          "output_type": "stream",
          "name": "stdout",
          "text": [
            "Found GPU at: /device:GPU:0\n"
          ]
        }
      ],
      "source": [
        "device_name = tf.test.gpu_device_name()\n",
        "if len(device_name) > 0:\n",
        "    print(\"Found GPU at: {}\".format(device_name))\n",
        "else:\n",
        "    device_name = \"/device:CPU:0\"\n",
        "    print(\"No GPU, using {}.\".format(device_name))"
      ]
    },
    {
      "cell_type": "code",
      "execution_count": null,
      "metadata": {
        "id": "_N4HG2Lvuojm"
      },
      "outputs": [],
      "source": [
        "! pip install -q kaggle"
      ]
    },
    {
      "cell_type": "code",
      "execution_count": null,
      "metadata": {
        "id": "p0T2QMYhuORS"
      },
      "outputs": [],
      "source": [
        "from google.colab import files\n",
        "\n",
        "files.upload() # upload your kaggle api key"
      ]
    },
    {
      "cell_type": "code",
      "execution_count": null,
      "metadata": {
        "id": "tU7KafP6vcox"
      },
      "outputs": [],
      "source": [
        "! mkdir ~/.kaggle\n",
        "\n",
        "! cp kaggle.json ~/.kaggle/"
      ]
    },
    {
      "cell_type": "code",
      "execution_count": null,
      "metadata": {
        "id": "-c_PKwISvgUM"
      },
      "outputs": [],
      "source": [
        "! chmod 600 ~/.kaggle/kaggle.json"
      ]
    },
    {
      "cell_type": "code",
      "execution_count": null,
      "metadata": {
        "colab": {
          "base_uri": "https://localhost:8080/"
        },
        "id": "Z2I_nfk3vihw",
        "outputId": "7273a9cf-d281-43a5-cadb-b27e276fa6e6"
      },
      "outputs": [
        {
          "output_type": "stream",
          "name": "stdout",
          "text": [
            "Downloading muffin-vs-chihuahua-image-classification.zip to /content\n",
            "100% 474M/474M [00:12<00:00, 42.7MB/s]\n",
            "100% 474M/474M [00:12<00:00, 40.8MB/s]\n"
          ]
        }
      ],
      "source": [
        "!kaggle datasets download -d samuelcortinhas/muffin-vs-chihuahua-image-classification"
      ]
    },
    {
      "cell_type": "code",
      "execution_count": null,
      "metadata": {
        "id": "IUDKDfxsvk3d"
      },
      "outputs": [],
      "source": [
        "!unzip -q ./muffin-vs-chihuahua-image-classification.zip -d ."
      ]
    },
    {
      "cell_type": "code",
      "execution_count": null,
      "metadata": {
        "colab": {
          "base_uri": "https://localhost:8080/"
        },
        "id": "3MAvlq8IvqRb",
        "outputId": "7a106f2c-a9ea-48fc-8b70-5b0e90321065"
      },
      "outputs": [
        {
          "output_type": "stream",
          "name": "stdout",
          "text": [
            "Mounted at /content/drive\n"
          ]
        }
      ],
      "source": [
        "from google.colab import drive\n",
        "drive.mount('/content/drive', force_remount= True)"
      ]
    },
    {
      "cell_type": "code",
      "execution_count": null,
      "metadata": {
        "id": "sts8CbUFLbJG"
      },
      "outputs": [],
      "source": [
        "# Define the paths to the train and test directories\n",
        "train_dir = '/content/train'\n",
        "test_dir = '/content/test'\n",
        "\n",
        "# Define image dimensions and batch size\n",
        "img_height, img_width = 100, 100\n",
        "batch_size = 32\n",
        "color_mode='rgb'"
      ]
    },
    {
      "cell_type": "code",
      "execution_count": null,
      "metadata": {
        "colab": {
          "base_uri": "https://localhost:8080/"
        },
        "id": "V4trhcbRLg9o",
        "outputId": "0d5b3835-e2b4-47b3-dcb3-b0287bd932af"
      },
      "outputs": [
        {
          "output_type": "stream",
          "name": "stdout",
          "text": [
            "Found 4733 files belonging to 2 classes.\n"
          ]
        }
      ],
      "source": [
        "train_ds = tf.keras.utils.image_dataset_from_directory(\n",
        "  train_dir,\n",
        "  seed=56,\n",
        "  image_size=(img_height, img_width),\n",
        "  batch_size=batch_size,\n",
        "  color_mode= color_mode)"
      ]
    },
    {
      "cell_type": "code",
      "execution_count": null,
      "metadata": {
        "colab": {
          "base_uri": "https://localhost:8080/"
        },
        "id": "7h8nFCuYLiqA",
        "outputId": "20ef5bb7-e8e6-4251-b43f-45ad13001d2c"
      },
      "outputs": [
        {
          "output_type": "stream",
          "name": "stdout",
          "text": [
            "Found 1184 files belonging to 2 classes.\n"
          ]
        }
      ],
      "source": [
        "test_ds = tf.keras.utils.image_dataset_from_directory(\n",
        "  test_dir,\n",
        "  seed=56,\n",
        "  image_size=(img_height, img_width),\n",
        "  batch_size=batch_size,\n",
        "  shuffle=False,\n",
        "  color_mode= color_mode)"
      ]
    },
    {
      "cell_type": "markdown",
      "metadata": {
        "id": "iTa7k__jwD9L"
      },
      "source": [
        "### Import functions"
      ]
    },
    {
      "cell_type": "code",
      "execution_count": null,
      "metadata": {
        "id": "K7XGAFQtlcDt"
      },
      "outputs": [],
      "source": [
        "from utilities import *"
      ]
    },
    {
      "cell_type": "code",
      "execution_count": null,
      "metadata": {
        "id": "qBj9Efn1xDhs"
      },
      "outputs": [],
      "source": [
        "train_images, train_labels = preprocess_train_dataset(train_ds)\n",
        "test_images, test_labels = preprocess_test_dataset(test_ds)"
      ]
    },
    {
      "cell_type": "code",
      "execution_count": null,
      "metadata": {
        "id": "n9WXrb2e9_nn"
      },
      "outputs": [],
      "source": [
        "folds_accuracy= []\n",
        "folds_loss = [] # zero-one loss"
      ]
    },
    {
      "cell_type": "code",
      "execution_count": null,
      "metadata": {
        "id": "fP90Lwc5_Y03"
      },
      "outputs": [],
      "source": [
        "kf = KFold(n_splits=5, shuffle = True, random_state = 56)"
      ]
    },
    {
      "cell_type": "code",
      "execution_count": null,
      "metadata": {
        "id": "TM2lIOl8xlsZ"
      },
      "outputs": [],
      "source": [
        "es = EarlyStopping(monitor='val_accuracy', patience=15, restore_best_weights=True)"
      ]
    },
    {
      "cell_type": "code",
      "execution_count": null,
      "metadata": {
        "colab": {
          "base_uri": "https://localhost:8080/"
        },
        "id": "MH5ZqAFJINgB",
        "outputId": "37f39088-1936-49e5-baa8-f91d39a5ffa9"
      },
      "outputs": [
        {
          "output_type": "stream",
          "name": "stdout",
          "text": [
            "Epoch 1/50\n",
            "119/119 [==============================] - 12s 25ms/step - loss: 0.5941 - accuracy: 0.7200 - val_loss: 5.8747 - val_accuracy: 0.5480\n",
            "Epoch 2/50\n",
            "119/119 [==============================] - 2s 20ms/step - loss: 0.4980 - accuracy: 0.7863 - val_loss: 0.6400 - val_accuracy: 0.7233\n",
            "Epoch 3/50\n",
            "119/119 [==============================] - 2s 20ms/step - loss: 0.4372 - accuracy: 0.8291 - val_loss: 1.8077 - val_accuracy: 0.4984\n",
            "Epoch 4/50\n",
            "119/119 [==============================] - 2s 20ms/step - loss: 0.4920 - accuracy: 0.7871 - val_loss: 0.5375 - val_accuracy: 0.7487\n",
            "Epoch 5/50\n",
            "119/119 [==============================] - 2s 18ms/step - loss: 0.4155 - accuracy: 0.8368 - val_loss: 0.4751 - val_accuracy: 0.8215\n",
            "Epoch 6/50\n",
            "119/119 [==============================] - 2s 18ms/step - loss: 0.4048 - accuracy: 0.8465 - val_loss: 0.3837 - val_accuracy: 0.8395\n",
            "Epoch 7/50\n",
            "119/119 [==============================] - 2s 19ms/step - loss: 0.3778 - accuracy: 0.8574 - val_loss: 0.9269 - val_accuracy: 0.6716\n",
            "Epoch 8/50\n",
            "119/119 [==============================] - 2s 21ms/step - loss: 0.3313 - accuracy: 0.8767 - val_loss: 0.7536 - val_accuracy: 0.7128\n",
            "Epoch 9/50\n",
            "119/119 [==============================] - 3s 21ms/step - loss: 0.3160 - accuracy: 0.8885 - val_loss: 7.2708 - val_accuracy: 0.5470\n",
            "Epoch 10/50\n",
            "119/119 [==============================] - 2s 19ms/step - loss: 0.3272 - accuracy: 0.8819 - val_loss: 0.9314 - val_accuracy: 0.6558\n",
            "Epoch 11/50\n",
            "119/119 [==============================] - 2s 18ms/step - loss: 0.3061 - accuracy: 0.8949 - val_loss: 0.5677 - val_accuracy: 0.7413\n",
            "Epoch 12/50\n",
            "119/119 [==============================] - 2s 18ms/step - loss: 0.3193 - accuracy: 0.8872 - val_loss: 0.9071 - val_accuracy: 0.7117\n",
            "Epoch 13/50\n",
            "119/119 [==============================] - 2s 18ms/step - loss: 0.2673 - accuracy: 0.9060 - val_loss: 0.3855 - val_accuracy: 0.8532\n",
            "Epoch 14/50\n",
            "119/119 [==============================] - 2s 19ms/step - loss: 0.2448 - accuracy: 0.9205 - val_loss: 0.4950 - val_accuracy: 0.8152\n",
            "Epoch 15/50\n",
            "119/119 [==============================] - 3s 22ms/step - loss: 0.2148 - accuracy: 0.9313 - val_loss: 0.4956 - val_accuracy: 0.8237\n",
            "Epoch 16/50\n",
            "119/119 [==============================] - 2s 19ms/step - loss: 0.1970 - accuracy: 0.9361 - val_loss: 0.4269 - val_accuracy: 0.8553\n",
            "Epoch 17/50\n",
            "119/119 [==============================] - 2s 18ms/step - loss: 0.2073 - accuracy: 0.9361 - val_loss: 0.3485 - val_accuracy: 0.8902\n",
            "Epoch 18/50\n",
            "119/119 [==============================] - 2s 18ms/step - loss: 0.1912 - accuracy: 0.9371 - val_loss: 0.3858 - val_accuracy: 0.8648\n",
            "Epoch 19/50\n",
            "119/119 [==============================] - 2s 18ms/step - loss: 0.1774 - accuracy: 0.9477 - val_loss: 0.3025 - val_accuracy: 0.8912\n",
            "Epoch 20/50\n",
            "119/119 [==============================] - 2s 19ms/step - loss: 0.1809 - accuracy: 0.9427 - val_loss: 0.4720 - val_accuracy: 0.8479\n",
            "Epoch 21/50\n",
            "119/119 [==============================] - 2s 21ms/step - loss: 0.1939 - accuracy: 0.9392 - val_loss: 0.3917 - val_accuracy: 0.8553\n",
            "Epoch 22/50\n",
            "119/119 [==============================] - 2s 18ms/step - loss: 0.1569 - accuracy: 0.9530 - val_loss: 0.4373 - val_accuracy: 0.8479\n",
            "Epoch 23/50\n",
            "119/119 [==============================] - 2s 20ms/step - loss: 0.1518 - accuracy: 0.9554 - val_loss: 0.4593 - val_accuracy: 0.8712\n",
            "Epoch 24/50\n",
            "119/119 [==============================] - 2s 18ms/step - loss: 0.1436 - accuracy: 0.9614 - val_loss: 0.4551 - val_accuracy: 0.8522\n",
            "Epoch 25/50\n",
            "119/119 [==============================] - 2s 18ms/step - loss: 0.1396 - accuracy: 0.9609 - val_loss: 0.2962 - val_accuracy: 0.8976\n",
            "Epoch 26/50\n",
            "119/119 [==============================] - 2s 19ms/step - loss: 0.2532 - accuracy: 0.9110 - val_loss: 0.6401 - val_accuracy: 0.7371\n",
            "Epoch 27/50\n",
            "119/119 [==============================] - 2s 21ms/step - loss: 0.1960 - accuracy: 0.9387 - val_loss: 0.4198 - val_accuracy: 0.8691\n",
            "Epoch 28/50\n",
            "119/119 [==============================] - 2s 18ms/step - loss: 0.1724 - accuracy: 0.9511 - val_loss: 0.3990 - val_accuracy: 0.8828\n",
            "Epoch 29/50\n",
            "119/119 [==============================] - 2s 18ms/step - loss: 0.1365 - accuracy: 0.9633 - val_loss: 0.7604 - val_accuracy: 0.8141\n",
            "Epoch 30/50\n",
            "119/119 [==============================] - 2s 18ms/step - loss: 0.1510 - accuracy: 0.9562 - val_loss: 0.3383 - val_accuracy: 0.8912\n",
            "Epoch 31/50\n",
            "119/119 [==============================] - 2s 18ms/step - loss: 0.1144 - accuracy: 0.9707 - val_loss: 0.3692 - val_accuracy: 0.8891\n",
            "Epoch 32/50\n",
            "119/119 [==============================] - 2s 19ms/step - loss: 0.1542 - accuracy: 0.9559 - val_loss: 0.3155 - val_accuracy: 0.9018\n",
            "Epoch 33/50\n",
            "119/119 [==============================] - 2s 21ms/step - loss: 0.1346 - accuracy: 0.9667 - val_loss: 0.3471 - val_accuracy: 0.8891\n",
            "Epoch 34/50\n",
            "119/119 [==============================] - 2s 18ms/step - loss: 0.1025 - accuracy: 0.9739 - val_loss: 0.4028 - val_accuracy: 0.8891\n",
            "Epoch 35/50\n",
            "119/119 [==============================] - 2s 18ms/step - loss: 0.1196 - accuracy: 0.9683 - val_loss: 0.3848 - val_accuracy: 0.8775\n",
            "Epoch 36/50\n",
            "119/119 [==============================] - 2s 18ms/step - loss: 0.1608 - accuracy: 0.9482 - val_loss: 0.4356 - val_accuracy: 0.8363\n",
            "Epoch 37/50\n",
            "119/119 [==============================] - 2s 18ms/step - loss: 0.1536 - accuracy: 0.9538 - val_loss: 0.3771 - val_accuracy: 0.8712\n",
            "Epoch 38/50\n",
            "119/119 [==============================] - 2s 21ms/step - loss: 0.1097 - accuracy: 0.9712 - val_loss: 0.3553 - val_accuracy: 0.8891\n",
            "Epoch 39/50\n",
            "119/119 [==============================] - 2s 20ms/step - loss: 0.1391 - accuracy: 0.9635 - val_loss: 0.3679 - val_accuracy: 0.8775\n",
            "Epoch 40/50\n",
            "119/119 [==============================] - 2s 18ms/step - loss: 0.1005 - accuracy: 0.9752 - val_loss: 0.4703 - val_accuracy: 0.8765\n",
            "Epoch 41/50\n",
            "119/119 [==============================] - 2s 18ms/step - loss: 0.0956 - accuracy: 0.9752 - val_loss: 0.3452 - val_accuracy: 0.8860\n",
            "Epoch 42/50\n",
            "119/119 [==============================] - 2s 18ms/step - loss: 0.1362 - accuracy: 0.9622 - val_loss: 0.3875 - val_accuracy: 0.8849\n",
            "Epoch 43/50\n",
            "119/119 [==============================] - 2s 18ms/step - loss: 0.1171 - accuracy: 0.9712 - val_loss: 0.5152 - val_accuracy: 0.8321\n",
            "Epoch 44/50\n",
            "119/119 [==============================] - 2s 21ms/step - loss: 0.0913 - accuracy: 0.9760 - val_loss: 0.3736 - val_accuracy: 0.8860\n",
            "Epoch 45/50\n",
            "119/119 [==============================] - 2s 20ms/step - loss: 0.0813 - accuracy: 0.9834 - val_loss: 0.4205 - val_accuracy: 0.8838\n",
            "Epoch 46/50\n",
            "119/119 [==============================] - 2s 19ms/step - loss: 0.0815 - accuracy: 0.9807 - val_loss: 0.5361 - val_accuracy: 0.8596\n",
            "Epoch 47/50\n",
            "119/119 [==============================] - 2s 18ms/step - loss: 0.1064 - accuracy: 0.9746 - val_loss: 0.3317 - val_accuracy: 0.8933\n",
            "30/30 [==============================] - 0s 6ms/step - loss: 0.3155 - accuracy: 0.9018\n",
            "Accuracies per fold: [0.9017951488494873]\n",
            "Zero-One Loss per fold: [0.0982048511505127]\n",
            "Average Accuracy: 0.9017951488494873\n",
            "Average Zero-One Loss: 0.0982048511505127\n",
            "Epoch 1/50\n",
            "119/119 [==============================] - 6s 23ms/step - loss: 0.5931 - accuracy: 0.7073 - val_loss: 3.8165 - val_accuracy: 0.5333\n",
            "Epoch 2/50\n",
            "119/119 [==============================] - 2s 19ms/step - loss: 0.4725 - accuracy: 0.8045 - val_loss: 0.5473 - val_accuracy: 0.7656\n",
            "Epoch 3/50\n",
            "119/119 [==============================] - 2s 18ms/step - loss: 0.4263 - accuracy: 0.8201 - val_loss: 0.4705 - val_accuracy: 0.7867\n",
            "Epoch 4/50\n",
            "119/119 [==============================] - 2s 18ms/step - loss: 0.3855 - accuracy: 0.8442 - val_loss: 0.3615 - val_accuracy: 0.8490\n",
            "Epoch 5/50\n",
            "119/119 [==============================] - 2s 18ms/step - loss: 0.3465 - accuracy: 0.8679 - val_loss: 0.4710 - val_accuracy: 0.7941\n",
            "Epoch 6/50\n",
            "119/119 [==============================] - 2s 18ms/step - loss: 0.3225 - accuracy: 0.8798 - val_loss: 0.6813 - val_accuracy: 0.6959\n",
            "Epoch 7/50\n",
            "119/119 [==============================] - 2s 21ms/step - loss: 0.3020 - accuracy: 0.8859 - val_loss: 0.5876 - val_accuracy: 0.7350\n",
            "Epoch 8/50\n",
            "119/119 [==============================] - 2s 21ms/step - loss: 0.2717 - accuracy: 0.9012 - val_loss: 0.3773 - val_accuracy: 0.8596\n",
            "Epoch 9/50\n",
            "119/119 [==============================] - 2s 18ms/step - loss: 0.2821 - accuracy: 0.8946 - val_loss: 0.4632 - val_accuracy: 0.8511\n",
            "Epoch 10/50\n",
            "119/119 [==============================] - 2s 18ms/step - loss: 0.2485 - accuracy: 0.9094 - val_loss: 0.7246 - val_accuracy: 0.7645\n",
            "Epoch 11/50\n",
            "119/119 [==============================] - 2s 18ms/step - loss: 0.2258 - accuracy: 0.9263 - val_loss: 0.3945 - val_accuracy: 0.8669\n",
            "Epoch 12/50\n",
            "119/119 [==============================] - 2s 18ms/step - loss: 0.2206 - accuracy: 0.9245 - val_loss: 0.7663 - val_accuracy: 0.7244\n",
            "Epoch 13/50\n",
            "119/119 [==============================] - 3s 22ms/step - loss: 0.2401 - accuracy: 0.9173 - val_loss: 0.3210 - val_accuracy: 0.8786\n",
            "Epoch 14/50\n",
            "119/119 [==============================] - 2s 19ms/step - loss: 0.1913 - accuracy: 0.9382 - val_loss: 0.3576 - val_accuracy: 0.8617\n",
            "Epoch 15/50\n",
            "119/119 [==============================] - 2s 18ms/step - loss: 0.1838 - accuracy: 0.9445 - val_loss: 0.4808 - val_accuracy: 0.8543\n",
            "Epoch 16/50\n",
            "119/119 [==============================] - 2s 18ms/step - loss: 0.1641 - accuracy: 0.9501 - val_loss: 0.3975 - val_accuracy: 0.8522\n",
            "Epoch 17/50\n",
            "119/119 [==============================] - 2s 18ms/step - loss: 0.1588 - accuracy: 0.9514 - val_loss: 0.4284 - val_accuracy: 0.8553\n",
            "Epoch 18/50\n",
            "119/119 [==============================] - 2s 18ms/step - loss: 0.1475 - accuracy: 0.9564 - val_loss: 0.5715 - val_accuracy: 0.8205\n",
            "Epoch 19/50\n",
            "119/119 [==============================] - 3s 22ms/step - loss: 0.1597 - accuracy: 0.9535 - val_loss: 0.4097 - val_accuracy: 0.8754\n",
            "Epoch 20/50\n",
            "119/119 [==============================] - 2s 18ms/step - loss: 0.1275 - accuracy: 0.9641 - val_loss: 0.4512 - val_accuracy: 0.8606\n",
            "Epoch 21/50\n",
            "119/119 [==============================] - 2s 19ms/step - loss: 0.1305 - accuracy: 0.9606 - val_loss: 0.3731 - val_accuracy: 0.8733\n",
            "Epoch 22/50\n",
            "119/119 [==============================] - 2s 18ms/step - loss: 0.1475 - accuracy: 0.9580 - val_loss: 0.4195 - val_accuracy: 0.8627\n",
            "Epoch 23/50\n",
            "119/119 [==============================] - 2s 18ms/step - loss: 0.1013 - accuracy: 0.9754 - val_loss: 0.4774 - val_accuracy: 0.8543\n",
            "Epoch 24/50\n",
            "119/119 [==============================] - 2s 20ms/step - loss: 0.1346 - accuracy: 0.9625 - val_loss: 0.4682 - val_accuracy: 0.8458\n",
            "Epoch 25/50\n",
            "119/119 [==============================] - 2s 20ms/step - loss: 0.2771 - accuracy: 0.9031 - val_loss: 0.4576 - val_accuracy: 0.8268\n",
            "Epoch 26/50\n",
            "119/119 [==============================] - 2s 18ms/step - loss: 0.1851 - accuracy: 0.9445 - val_loss: 0.3467 - val_accuracy: 0.8807\n",
            "Epoch 27/50\n",
            "119/119 [==============================] - 2s 18ms/step - loss: 0.1479 - accuracy: 0.9596 - val_loss: 0.4111 - val_accuracy: 0.8754\n",
            "Epoch 28/50\n",
            "119/119 [==============================] - 2s 18ms/step - loss: 0.1245 - accuracy: 0.9675 - val_loss: 0.3945 - val_accuracy: 0.8786\n",
            "Epoch 29/50\n",
            "119/119 [==============================] - 2s 18ms/step - loss: 0.1294 - accuracy: 0.9667 - val_loss: 0.3883 - val_accuracy: 0.8669\n",
            "Epoch 30/50\n",
            "119/119 [==============================] - 2s 20ms/step - loss: 0.0983 - accuracy: 0.9768 - val_loss: 0.4116 - val_accuracy: 0.8691\n",
            "Epoch 31/50\n",
            "119/119 [==============================] - 2s 20ms/step - loss: 0.1003 - accuracy: 0.9789 - val_loss: 0.7089 - val_accuracy: 0.8004\n",
            "Epoch 32/50\n",
            "119/119 [==============================] - 2s 18ms/step - loss: 0.0958 - accuracy: 0.9781 - val_loss: 0.4309 - val_accuracy: 0.8691\n",
            "Epoch 33/50\n",
            "119/119 [==============================] - 2s 18ms/step - loss: 0.0961 - accuracy: 0.9762 - val_loss: 0.4275 - val_accuracy: 0.8796\n",
            "Epoch 34/50\n",
            "119/119 [==============================] - 2s 18ms/step - loss: 0.1114 - accuracy: 0.9717 - val_loss: 0.6635 - val_accuracy: 0.8395\n",
            "Epoch 35/50\n",
            "119/119 [==============================] - 2s 18ms/step - loss: 0.0881 - accuracy: 0.9812 - val_loss: 0.4122 - val_accuracy: 0.8817\n",
            "Epoch 36/50\n",
            "119/119 [==============================] - 2s 19ms/step - loss: 0.0808 - accuracy: 0.9797 - val_loss: 0.5986 - val_accuracy: 0.8490\n",
            "Epoch 37/50\n",
            "119/119 [==============================] - 2s 20ms/step - loss: 0.0907 - accuracy: 0.9794 - val_loss: 0.4387 - val_accuracy: 0.8775\n",
            "Epoch 38/50\n",
            "119/119 [==============================] - 2s 18ms/step - loss: 0.1087 - accuracy: 0.9739 - val_loss: 0.4769 - val_accuracy: 0.8712\n",
            "Epoch 39/50\n",
            "119/119 [==============================] - 2s 18ms/step - loss: 0.0876 - accuracy: 0.9807 - val_loss: 0.5036 - val_accuracy: 0.8701\n",
            "Epoch 40/50\n",
            "119/119 [==============================] - 2s 18ms/step - loss: 0.0912 - accuracy: 0.9770 - val_loss: 0.5413 - val_accuracy: 0.8606\n",
            "Epoch 41/50\n",
            "119/119 [==============================] - 2s 18ms/step - loss: 0.0748 - accuracy: 0.9863 - val_loss: 0.5602 - val_accuracy: 0.8585\n",
            "Epoch 42/50\n",
            "119/119 [==============================] - 2s 20ms/step - loss: 0.0796 - accuracy: 0.9820 - val_loss: 0.7124 - val_accuracy: 0.8532\n",
            "Epoch 43/50\n",
            "119/119 [==============================] - 2s 20ms/step - loss: 0.0856 - accuracy: 0.9799 - val_loss: 0.3927 - val_accuracy: 0.8786\n",
            "Epoch 44/50\n",
            "119/119 [==============================] - 2s 18ms/step - loss: 0.0872 - accuracy: 0.9791 - val_loss: 0.3948 - val_accuracy: 0.8986\n",
            "Epoch 45/50\n",
            "119/119 [==============================] - 2s 18ms/step - loss: 0.0803 - accuracy: 0.9799 - val_loss: 0.4628 - val_accuracy: 0.8743\n",
            "Epoch 46/50\n",
            "119/119 [==============================] - 2s 18ms/step - loss: 0.2126 - accuracy: 0.9377 - val_loss: 0.3924 - val_accuracy: 0.8733\n",
            "Epoch 47/50\n",
            "119/119 [==============================] - 2s 18ms/step - loss: 0.1068 - accuracy: 0.9712 - val_loss: 0.5060 - val_accuracy: 0.8701\n",
            "Epoch 48/50\n",
            "119/119 [==============================] - 2s 20ms/step - loss: 0.1028 - accuracy: 0.9739 - val_loss: 0.5281 - val_accuracy: 0.8638\n",
            "Epoch 49/50\n",
            "119/119 [==============================] - 2s 20ms/step - loss: 0.0869 - accuracy: 0.9812 - val_loss: 0.5278 - val_accuracy: 0.8553\n",
            "Epoch 50/50\n",
            "119/119 [==============================] - 2s 19ms/step - loss: 0.1709 - accuracy: 0.9498 - val_loss: 0.4304 - val_accuracy: 0.8743\n",
            "30/30 [==============================] - 0s 6ms/step - loss: 0.4304 - accuracy: 0.8743\n",
            "Accuracies per fold: [0.9017951488494873, 0.8743399977684021]\n",
            "Zero-One Loss per fold: [0.0982048511505127, 0.1256600022315979]\n",
            "Average Accuracy: 0.8880675733089447\n",
            "Average Zero-One Loss: 0.1119324266910553\n",
            "Epoch 1/50\n",
            "119/119 [==============================] - 5s 21ms/step - loss: 0.6232 - accuracy: 0.6772 - val_loss: 9.4040 - val_accuracy: 0.5375\n",
            "Epoch 2/50\n",
            "119/119 [==============================] - 2s 20ms/step - loss: 0.4883 - accuracy: 0.7937 - val_loss: 0.8842 - val_accuracy: 0.5734\n",
            "Epoch 3/50\n",
            "119/119 [==============================] - 2s 20ms/step - loss: 0.4547 - accuracy: 0.8051 - val_loss: 0.4548 - val_accuracy: 0.7973\n",
            "Epoch 4/50\n",
            "119/119 [==============================] - 2s 18ms/step - loss: 0.4134 - accuracy: 0.8357 - val_loss: 0.5275 - val_accuracy: 0.7666\n",
            "Epoch 5/50\n",
            "119/119 [==============================] - 2s 18ms/step - loss: 0.3948 - accuracy: 0.8452 - val_loss: 0.4447 - val_accuracy: 0.7825\n",
            "Epoch 6/50\n",
            "119/119 [==============================] - 2s 18ms/step - loss: 0.3641 - accuracy: 0.8666 - val_loss: 0.3611 - val_accuracy: 0.8501\n",
            "Epoch 7/50\n",
            "119/119 [==============================] - 2s 18ms/step - loss: 0.3496 - accuracy: 0.8666 - val_loss: 1.0566 - val_accuracy: 0.6779\n",
            "Epoch 8/50\n",
            "119/119 [==============================] - 2s 21ms/step - loss: 0.3476 - accuracy: 0.8677 - val_loss: 0.4808 - val_accuracy: 0.8046\n",
            "Epoch 9/50\n",
            "119/119 [==============================] - 2s 20ms/step - loss: 0.3050 - accuracy: 0.8899 - val_loss: 0.4078 - val_accuracy: 0.8374\n",
            "Epoch 10/50\n",
            "119/119 [==============================] - 2s 18ms/step - loss: 0.3059 - accuracy: 0.8885 - val_loss: 0.3397 - val_accuracy: 0.8733\n",
            "Epoch 11/50\n",
            "119/119 [==============================] - 2s 19ms/step - loss: 0.2639 - accuracy: 0.9089 - val_loss: 0.3748 - val_accuracy: 0.8374\n",
            "Epoch 12/50\n",
            "119/119 [==============================] - 2s 18ms/step - loss: 0.2457 - accuracy: 0.9163 - val_loss: 0.3478 - val_accuracy: 0.8733\n",
            "Epoch 13/50\n",
            "119/119 [==============================] - 2s 18ms/step - loss: 0.2106 - accuracy: 0.9319 - val_loss: 0.4492 - val_accuracy: 0.8384\n",
            "Epoch 14/50\n",
            "119/119 [==============================] - 3s 22ms/step - loss: 0.2108 - accuracy: 0.9334 - val_loss: 0.4084 - val_accuracy: 0.8374\n",
            "Epoch 15/50\n",
            "119/119 [==============================] - 2s 20ms/step - loss: 0.2692 - accuracy: 0.9052 - val_loss: 0.5924 - val_accuracy: 0.7951\n",
            "Epoch 16/50\n",
            "119/119 [==============================] - 2s 18ms/step - loss: 0.2196 - accuracy: 0.9313 - val_loss: 0.4037 - val_accuracy: 0.8490\n",
            "Epoch 17/50\n",
            "119/119 [==============================] - 2s 18ms/step - loss: 0.1978 - accuracy: 0.9377 - val_loss: 0.3818 - val_accuracy: 0.8374\n",
            "Epoch 18/50\n",
            "119/119 [==============================] - 2s 18ms/step - loss: 0.1901 - accuracy: 0.9350 - val_loss: 0.3499 - val_accuracy: 0.8923\n",
            "Epoch 19/50\n",
            "119/119 [==============================] - 2s 18ms/step - loss: 0.1727 - accuracy: 0.9469 - val_loss: 0.4225 - val_accuracy: 0.8437\n",
            "Epoch 20/50\n",
            "119/119 [==============================] - 3s 22ms/step - loss: 0.1784 - accuracy: 0.9424 - val_loss: 0.3754 - val_accuracy: 0.8648\n",
            "Epoch 21/50\n",
            "119/119 [==============================] - 2s 19ms/step - loss: 0.1436 - accuracy: 0.9601 - val_loss: 0.5517 - val_accuracy: 0.8437\n",
            "Epoch 22/50\n",
            "119/119 [==============================] - 2s 18ms/step - loss: 0.1302 - accuracy: 0.9651 - val_loss: 0.4034 - val_accuracy: 0.8701\n",
            "Epoch 23/50\n",
            "119/119 [==============================] - 2s 18ms/step - loss: 0.1203 - accuracy: 0.9672 - val_loss: 0.4337 - val_accuracy: 0.8564\n",
            "Epoch 24/50\n",
            "119/119 [==============================] - 2s 18ms/step - loss: 0.1629 - accuracy: 0.9540 - val_loss: 18.3614 - val_accuracy: 0.5385\n",
            "Epoch 25/50\n",
            "119/119 [==============================] - 2s 19ms/step - loss: 0.3415 - accuracy: 0.8769 - val_loss: 0.5130 - val_accuracy: 0.7825\n",
            "Epoch 26/50\n",
            "119/119 [==============================] - 2s 20ms/step - loss: 0.2268 - accuracy: 0.9200 - val_loss: 0.3880 - val_accuracy: 0.8659\n",
            "Epoch 27/50\n",
            "119/119 [==============================] - 2s 18ms/step - loss: 0.1879 - accuracy: 0.9443 - val_loss: 0.8549 - val_accuracy: 0.7698\n",
            "Epoch 28/50\n",
            "119/119 [==============================] - 2s 18ms/step - loss: 0.1443 - accuracy: 0.9585 - val_loss: 0.3682 - val_accuracy: 0.8923\n",
            "Epoch 29/50\n",
            "119/119 [==============================] - 2s 18ms/step - loss: 0.1584 - accuracy: 0.9538 - val_loss: 0.8961 - val_accuracy: 0.7423\n",
            "Epoch 30/50\n",
            "119/119 [==============================] - 2s 18ms/step - loss: 0.1429 - accuracy: 0.9554 - val_loss: 0.4875 - val_accuracy: 0.8553\n",
            "Epoch 31/50\n",
            "119/119 [==============================] - 2s 20ms/step - loss: 0.1623 - accuracy: 0.9530 - val_loss: 0.3895 - val_accuracy: 0.8965\n",
            "Epoch 32/50\n",
            "119/119 [==============================] - 2s 21ms/step - loss: 0.1093 - accuracy: 0.9707 - val_loss: 0.3299 - val_accuracy: 0.9081\n",
            "Epoch 33/50\n",
            "119/119 [==============================] - 2s 20ms/step - loss: 0.0993 - accuracy: 0.9739 - val_loss: 0.4924 - val_accuracy: 0.8849\n",
            "Epoch 34/50\n",
            "119/119 [==============================] - 2s 19ms/step - loss: 0.1298 - accuracy: 0.9649 - val_loss: 0.3405 - val_accuracy: 0.8891\n",
            "Epoch 35/50\n",
            "119/119 [==============================] - 2s 18ms/step - loss: 0.1152 - accuracy: 0.9680 - val_loss: 0.4328 - val_accuracy: 0.8775\n",
            "Epoch 36/50\n",
            "119/119 [==============================] - 2s 18ms/step - loss: 0.1045 - accuracy: 0.9739 - val_loss: 0.3416 - val_accuracy: 0.8933\n",
            "Epoch 37/50\n",
            "119/119 [==============================] - 2s 20ms/step - loss: 0.1011 - accuracy: 0.9739 - val_loss: 0.4693 - val_accuracy: 0.8849\n",
            "Epoch 38/50\n",
            "119/119 [==============================] - 2s 20ms/step - loss: 0.1236 - accuracy: 0.9665 - val_loss: 0.3810 - val_accuracy: 0.8849\n",
            "Epoch 39/50\n",
            "119/119 [==============================] - 2s 18ms/step - loss: 0.1197 - accuracy: 0.9683 - val_loss: 0.3726 - val_accuracy: 0.8870\n",
            "Epoch 40/50\n",
            "119/119 [==============================] - 2s 18ms/step - loss: 0.1052 - accuracy: 0.9739 - val_loss: 0.4631 - val_accuracy: 0.8691\n",
            "Epoch 41/50\n",
            "119/119 [==============================] - 2s 18ms/step - loss: 0.0835 - accuracy: 0.9815 - val_loss: 0.9845 - val_accuracy: 0.7603\n",
            "Epoch 42/50\n",
            "119/119 [==============================] - 2s 18ms/step - loss: 0.0820 - accuracy: 0.9826 - val_loss: 0.4294 - val_accuracy: 0.8955\n",
            "Epoch 43/50\n",
            "119/119 [==============================] - 2s 20ms/step - loss: 0.0966 - accuracy: 0.9754 - val_loss: 0.3952 - val_accuracy: 0.8743\n",
            "Epoch 44/50\n",
            "119/119 [==============================] - 2s 20ms/step - loss: 0.0855 - accuracy: 0.9786 - val_loss: 0.3785 - val_accuracy: 0.8860\n",
            "Epoch 45/50\n",
            "119/119 [==============================] - 2s 18ms/step - loss: 0.0834 - accuracy: 0.9839 - val_loss: 0.6188 - val_accuracy: 0.8765\n",
            "Epoch 46/50\n",
            "119/119 [==============================] - 2s 18ms/step - loss: 0.0942 - accuracy: 0.9783 - val_loss: 1.3057 - val_accuracy: 0.6230\n",
            "Epoch 47/50\n",
            "119/119 [==============================] - 2s 18ms/step - loss: 0.1870 - accuracy: 0.9451 - val_loss: 0.4082 - val_accuracy: 0.8775\n",
            "30/30 [==============================] - 0s 6ms/step - loss: 0.3299 - accuracy: 0.9081\n",
            "Accuracies per fold: [0.9017951488494873, 0.8743399977684021, 0.908130943775177]\n",
            "Zero-One Loss per fold: [0.0982048511505127, 0.1256600022315979, 0.091869056224823]\n",
            "Average Accuracy: 0.8947553634643555\n",
            "Average Zero-One Loss: 0.10524463653564453\n",
            "Epoch 1/50\n",
            "119/119 [==============================] - 7s 32ms/step - loss: 0.5989 - accuracy: 0.7151 - val_loss: 1.6034 - val_accuracy: 0.5349\n",
            "Epoch 2/50\n",
            "119/119 [==============================] - 2s 20ms/step - loss: 0.4899 - accuracy: 0.7851 - val_loss: 0.7058 - val_accuracy: 0.6998\n",
            "Epoch 3/50\n",
            "119/119 [==============================] - 2s 18ms/step - loss: 0.4463 - accuracy: 0.8167 - val_loss: 1.0309 - val_accuracy: 0.6512\n",
            "Epoch 4/50\n",
            "119/119 [==============================] - 2s 19ms/step - loss: 0.4656 - accuracy: 0.7975 - val_loss: 0.4412 - val_accuracy: 0.8013\n",
            "Epoch 5/50\n",
            "119/119 [==============================] - 2s 20ms/step - loss: 0.4444 - accuracy: 0.8181 - val_loss: 0.5280 - val_accuracy: 0.7706\n",
            "Epoch 6/50\n",
            "119/119 [==============================] - 3s 21ms/step - loss: 0.3840 - accuracy: 0.8545 - val_loss: 1.2658 - val_accuracy: 0.5877\n",
            "Epoch 7/50\n",
            "119/119 [==============================] - 2s 19ms/step - loss: 0.3526 - accuracy: 0.8714 - val_loss: 0.3582 - val_accuracy: 0.8615\n",
            "Epoch 8/50\n",
            "119/119 [==============================] - 2s 19ms/step - loss: 0.3426 - accuracy: 0.8754 - val_loss: 0.6254 - val_accuracy: 0.7326\n",
            "Epoch 9/50\n",
            "119/119 [==============================] - 2s 18ms/step - loss: 0.3311 - accuracy: 0.8740 - val_loss: 0.5417 - val_accuracy: 0.7854\n",
            "Epoch 10/50\n",
            "119/119 [==============================] - 2s 20ms/step - loss: 0.3020 - accuracy: 0.8917 - val_loss: 1.9227 - val_accuracy: 0.5719\n",
            "Epoch 11/50\n",
            "119/119 [==============================] - 3s 21ms/step - loss: 0.2831 - accuracy: 0.9007 - val_loss: 0.7058 - val_accuracy: 0.7886\n",
            "Epoch 12/50\n",
            "119/119 [==============================] - 3s 21ms/step - loss: 0.2432 - accuracy: 0.9171 - val_loss: 0.5272 - val_accuracy: 0.8150\n",
            "Epoch 13/50\n",
            "119/119 [==============================] - 2s 18ms/step - loss: 0.2424 - accuracy: 0.9163 - val_loss: 0.5078 - val_accuracy: 0.8277\n",
            "Epoch 14/50\n",
            "119/119 [==============================] - 2s 18ms/step - loss: 0.2323 - accuracy: 0.9229 - val_loss: 0.5209 - val_accuracy: 0.8277\n",
            "Epoch 15/50\n",
            "119/119 [==============================] - 2s 18ms/step - loss: 0.2036 - accuracy: 0.9366 - val_loss: 0.5012 - val_accuracy: 0.8309\n",
            "Epoch 16/50\n",
            "119/119 [==============================] - 2s 20ms/step - loss: 0.1890 - accuracy: 0.9427 - val_loss: 0.8594 - val_accuracy: 0.7400\n",
            "Epoch 17/50\n",
            "119/119 [==============================] - 2s 20ms/step - loss: 0.1726 - accuracy: 0.9467 - val_loss: 0.8311 - val_accuracy: 0.7326\n",
            "Epoch 18/50\n",
            "119/119 [==============================] - 2s 21ms/step - loss: 0.2047 - accuracy: 0.9348 - val_loss: 0.6977 - val_accuracy: 0.8129\n",
            "Epoch 19/50\n",
            "119/119 [==============================] - 2s 18ms/step - loss: 0.1735 - accuracy: 0.9438 - val_loss: 0.8417 - val_accuracy: 0.7770\n",
            "Epoch 20/50\n",
            "119/119 [==============================] - 2s 20ms/step - loss: 0.1511 - accuracy: 0.9556 - val_loss: 0.5104 - val_accuracy: 0.8362\n",
            "Epoch 21/50\n",
            "119/119 [==============================] - 2s 18ms/step - loss: 0.2535 - accuracy: 0.9197 - val_loss: 0.6312 - val_accuracy: 0.7801\n",
            "Epoch 22/50\n",
            "119/119 [==============================] - 2s 19ms/step - loss: 0.1642 - accuracy: 0.9488 - val_loss: 0.3964 - val_accuracy: 0.8689\n",
            "Epoch 23/50\n",
            "119/119 [==============================] - 3s 21ms/step - loss: 0.1423 - accuracy: 0.9559 - val_loss: 0.4828 - val_accuracy: 0.8615\n",
            "Epoch 24/50\n",
            "119/119 [==============================] - 3s 22ms/step - loss: 0.1346 - accuracy: 0.9614 - val_loss: 0.5597 - val_accuracy: 0.8235\n",
            "Epoch 25/50\n",
            "119/119 [==============================] - 2s 19ms/step - loss: 0.1358 - accuracy: 0.9614 - val_loss: 0.5839 - val_accuracy: 0.8235\n",
            "Epoch 26/50\n",
            "119/119 [==============================] - 2s 18ms/step - loss: 0.1178 - accuracy: 0.9662 - val_loss: 0.3991 - val_accuracy: 0.8679\n",
            "Epoch 27/50\n",
            "119/119 [==============================] - 2s 20ms/step - loss: 0.1132 - accuracy: 0.9739 - val_loss: 0.7166 - val_accuracy: 0.8192\n",
            "Epoch 28/50\n",
            "119/119 [==============================] - 2s 19ms/step - loss: 0.1708 - accuracy: 0.9488 - val_loss: 0.4796 - val_accuracy: 0.8478\n",
            "Epoch 29/50\n",
            "119/119 [==============================] - 3s 23ms/step - loss: 0.1148 - accuracy: 0.9675 - val_loss: 0.4667 - val_accuracy: 0.8700\n",
            "Epoch 30/50\n",
            "119/119 [==============================] - 2s 18ms/step - loss: 0.0993 - accuracy: 0.9733 - val_loss: 0.4856 - val_accuracy: 0.8689\n",
            "Epoch 31/50\n",
            "119/119 [==============================] - 2s 18ms/step - loss: 0.1204 - accuracy: 0.9683 - val_loss: 0.4215 - val_accuracy: 0.8541\n",
            "Epoch 32/50\n",
            "119/119 [==============================] - 2s 18ms/step - loss: 0.1108 - accuracy: 0.9723 - val_loss: 0.5302 - val_accuracy: 0.8552\n",
            "Epoch 33/50\n",
            "119/119 [==============================] - 2s 18ms/step - loss: 0.0904 - accuracy: 0.9776 - val_loss: 0.4363 - val_accuracy: 0.8753\n",
            "Epoch 34/50\n",
            "119/119 [==============================] - 2s 19ms/step - loss: 0.1008 - accuracy: 0.9749 - val_loss: 0.8479 - val_accuracy: 0.8224\n",
            "Epoch 35/50\n",
            "119/119 [==============================] - 2s 21ms/step - loss: 0.0785 - accuracy: 0.9839 - val_loss: 0.5967 - val_accuracy: 0.8383\n",
            "Epoch 36/50\n",
            "119/119 [==============================] - 2s 18ms/step - loss: 0.0867 - accuracy: 0.9813 - val_loss: 0.6781 - val_accuracy: 0.8108\n",
            "Epoch 37/50\n",
            "119/119 [==============================] - 2s 18ms/step - loss: 0.1199 - accuracy: 0.9678 - val_loss: 0.4660 - val_accuracy: 0.8647\n",
            "Epoch 38/50\n",
            "119/119 [==============================] - 2s 18ms/step - loss: 0.0911 - accuracy: 0.9791 - val_loss: 0.5647 - val_accuracy: 0.8605\n",
            "Epoch 39/50\n",
            "119/119 [==============================] - 2s 18ms/step - loss: 0.1228 - accuracy: 0.9617 - val_loss: 0.6356 - val_accuracy: 0.8330\n",
            "Epoch 40/50\n",
            "119/119 [==============================] - 2s 19ms/step - loss: 0.0880 - accuracy: 0.9794 - val_loss: 0.5332 - val_accuracy: 0.8615\n",
            "Epoch 41/50\n",
            "119/119 [==============================] - 3s 22ms/step - loss: 0.0802 - accuracy: 0.9834 - val_loss: 0.6383 - val_accuracy: 0.8520\n",
            "Epoch 42/50\n",
            "119/119 [==============================] - 2s 18ms/step - loss: 0.0960 - accuracy: 0.9757 - val_loss: 0.3960 - val_accuracy: 0.8753\n",
            "Epoch 43/50\n",
            "119/119 [==============================] - 2s 18ms/step - loss: 0.0846 - accuracy: 0.9813 - val_loss: 0.4895 - val_accuracy: 0.8689\n",
            "Epoch 44/50\n",
            "119/119 [==============================] - 2s 18ms/step - loss: 0.0921 - accuracy: 0.9783 - val_loss: 0.4983 - val_accuracy: 0.8626\n",
            "Epoch 45/50\n",
            "119/119 [==============================] - 2s 19ms/step - loss: 0.0671 - accuracy: 0.9860 - val_loss: 0.5565 - val_accuracy: 0.8721\n",
            "Epoch 46/50\n",
            "119/119 [==============================] - 2s 20ms/step - loss: 0.0990 - accuracy: 0.9752 - val_loss: 0.4013 - val_accuracy: 0.8795\n",
            "Epoch 47/50\n",
            "119/119 [==============================] - 2s 20ms/step - loss: 0.0723 - accuracy: 0.9855 - val_loss: 0.5948 - val_accuracy: 0.8753\n",
            "Epoch 48/50\n",
            "119/119 [==============================] - 2s 18ms/step - loss: 0.0927 - accuracy: 0.9768 - val_loss: 3.3754 - val_accuracy: 0.6490\n",
            "Epoch 49/50\n",
            "119/119 [==============================] - 2s 18ms/step - loss: 0.1138 - accuracy: 0.9699 - val_loss: 0.5486 - val_accuracy: 0.8837\n",
            "Epoch 50/50\n",
            "119/119 [==============================] - 2s 18ms/step - loss: 0.0843 - accuracy: 0.9823 - val_loss: 0.4927 - val_accuracy: 0.8774\n",
            "30/30 [==============================] - 0s 6ms/step - loss: 0.4927 - accuracy: 0.8774\n",
            "Accuracies per fold: [0.9017951488494873, 0.8743399977684021, 0.908130943775177, 0.8773784637451172]\n",
            "Zero-One Loss per fold: [0.0982048511505127, 0.1256600022315979, 0.091869056224823, 0.12262153625488281]\n",
            "Average Accuracy: 0.8904111385345459\n",
            "Average Zero-One Loss: 0.1095888614654541\n",
            "Epoch 1/50\n",
            "119/119 [==============================] - 6s 25ms/step - loss: 0.6116 - accuracy: 0.6955 - val_loss: 5.5132 - val_accuracy: 0.5349\n",
            "Epoch 2/50\n",
            "119/119 [==============================] - 2s 18ms/step - loss: 0.4680 - accuracy: 0.8022 - val_loss: 0.5653 - val_accuracy: 0.7548\n",
            "Epoch 3/50\n",
            "119/119 [==============================] - 2s 18ms/step - loss: 0.4297 - accuracy: 0.8255 - val_loss: 0.8956 - val_accuracy: 0.6533\n",
            "Epoch 4/50\n",
            "119/119 [==============================] - 2s 18ms/step - loss: 0.3859 - accuracy: 0.8421 - val_loss: 0.4133 - val_accuracy: 0.8298\n",
            "Epoch 5/50\n",
            "119/119 [==============================] - 2s 18ms/step - loss: 0.3720 - accuracy: 0.8532 - val_loss: 1.2761 - val_accuracy: 0.6163\n",
            "Epoch 6/50\n",
            "119/119 [==============================] - 3s 21ms/step - loss: 0.3889 - accuracy: 0.8461 - val_loss: 1.4850 - val_accuracy: 0.5920\n",
            "Epoch 7/50\n",
            "119/119 [==============================] - 2s 20ms/step - loss: 0.3300 - accuracy: 0.8801 - val_loss: 0.7920 - val_accuracy: 0.7199\n",
            "Epoch 8/50\n",
            "119/119 [==============================] - 2s 18ms/step - loss: 0.3377 - accuracy: 0.8722 - val_loss: 0.5185 - val_accuracy: 0.7748\n",
            "Epoch 9/50\n",
            "119/119 [==============================] - 2s 20ms/step - loss: 0.2830 - accuracy: 0.8989 - val_loss: 0.4504 - val_accuracy: 0.8520\n",
            "Epoch 10/50\n",
            "119/119 [==============================] - 2s 18ms/step - loss: 0.3058 - accuracy: 0.8870 - val_loss: 0.6027 - val_accuracy: 0.8171\n",
            "Epoch 11/50\n",
            "119/119 [==============================] - 2s 18ms/step - loss: 0.2582 - accuracy: 0.9126 - val_loss: 0.5064 - val_accuracy: 0.7791\n",
            "Epoch 12/50\n",
            "119/119 [==============================] - 3s 22ms/step - loss: 0.2509 - accuracy: 0.9171 - val_loss: 0.4759 - val_accuracy: 0.8288\n",
            "Epoch 13/50\n",
            "119/119 [==============================] - 2s 19ms/step - loss: 0.2176 - accuracy: 0.9292 - val_loss: 1.0360 - val_accuracy: 0.7241\n",
            "Epoch 14/50\n",
            "119/119 [==============================] - 2s 18ms/step - loss: 0.2096 - accuracy: 0.9266 - val_loss: 0.4004 - val_accuracy: 0.8710\n",
            "Epoch 15/50\n",
            "119/119 [==============================] - 2s 18ms/step - loss: 0.1808 - accuracy: 0.9427 - val_loss: 1.0247 - val_accuracy: 0.7368\n",
            "Epoch 16/50\n",
            "119/119 [==============================] - 2s 18ms/step - loss: 0.1924 - accuracy: 0.9403 - val_loss: 0.3652 - val_accuracy: 0.8753\n",
            "Epoch 17/50\n",
            "119/119 [==============================] - 2s 20ms/step - loss: 0.1781 - accuracy: 0.9464 - val_loss: 1.4958 - val_accuracy: 0.6332\n",
            "Epoch 18/50\n",
            "119/119 [==============================] - 3s 22ms/step - loss: 0.1681 - accuracy: 0.9482 - val_loss: 0.5537 - val_accuracy: 0.8531\n",
            "Epoch 19/50\n",
            "119/119 [==============================] - 2s 18ms/step - loss: 0.1705 - accuracy: 0.9469 - val_loss: 0.6057 - val_accuracy: 0.7495\n",
            "Epoch 20/50\n",
            "119/119 [==============================] - 2s 18ms/step - loss: 0.1957 - accuracy: 0.9406 - val_loss: 0.7332 - val_accuracy: 0.8129\n",
            "Epoch 21/50\n",
            "119/119 [==============================] - 2s 18ms/step - loss: 0.1976 - accuracy: 0.9395 - val_loss: 1.3480 - val_accuracy: 0.6934\n",
            "Epoch 22/50\n",
            "119/119 [==============================] - 2s 18ms/step - loss: 0.1596 - accuracy: 0.9538 - val_loss: 0.3752 - val_accuracy: 0.8774\n",
            "Epoch 23/50\n",
            "119/119 [==============================] - 2s 21ms/step - loss: 0.1807 - accuracy: 0.9456 - val_loss: 0.4309 - val_accuracy: 0.8383\n",
            "Epoch 24/50\n",
            "119/119 [==============================] - 2s 20ms/step - loss: 0.1697 - accuracy: 0.9509 - val_loss: 0.4863 - val_accuracy: 0.8636\n",
            "Epoch 25/50\n",
            "119/119 [==============================] - 2s 18ms/step - loss: 0.2248 - accuracy: 0.9261 - val_loss: 0.4328 - val_accuracy: 0.8679\n",
            "Epoch 26/50\n",
            "119/119 [==============================] - 2s 18ms/step - loss: 0.1338 - accuracy: 0.9630 - val_loss: 0.8034 - val_accuracy: 0.8087\n",
            "Epoch 27/50\n",
            "119/119 [==============================] - 2s 19ms/step - loss: 0.1500 - accuracy: 0.9556 - val_loss: 1.1015 - val_accuracy: 0.7495\n",
            "Epoch 28/50\n",
            "119/119 [==============================] - 2s 18ms/step - loss: 0.1093 - accuracy: 0.9736 - val_loss: 0.9127 - val_accuracy: 0.8161\n",
            "Epoch 29/50\n",
            "119/119 [==============================] - 3s 21ms/step - loss: 0.1378 - accuracy: 0.9638 - val_loss: 0.5550 - val_accuracy: 0.8488\n",
            "Epoch 30/50\n",
            "119/119 [==============================] - 2s 20ms/step - loss: 0.1099 - accuracy: 0.9725 - val_loss: 0.5491 - val_accuracy: 0.8414\n",
            "Epoch 31/50\n",
            "119/119 [==============================] - 2s 18ms/step - loss: 0.1059 - accuracy: 0.9725 - val_loss: 0.4920 - val_accuracy: 0.8774\n",
            "Epoch 32/50\n",
            "119/119 [==============================] - 2s 18ms/step - loss: 0.0974 - accuracy: 0.9747 - val_loss: 0.5035 - val_accuracy: 0.8784\n",
            "Epoch 33/50\n",
            "119/119 [==============================] - 2s 18ms/step - loss: 0.1030 - accuracy: 0.9733 - val_loss: 0.5272 - val_accuracy: 0.8700\n",
            "Epoch 34/50\n",
            "119/119 [==============================] - 2s 18ms/step - loss: 0.1069 - accuracy: 0.9733 - val_loss: 0.3897 - val_accuracy: 0.8753\n",
            "Epoch 35/50\n",
            "119/119 [==============================] - 3s 21ms/step - loss: 0.0920 - accuracy: 0.9791 - val_loss: 0.4705 - val_accuracy: 0.8753\n",
            "Epoch 36/50\n",
            "119/119 [==============================] - 2s 19ms/step - loss: 0.1000 - accuracy: 0.9765 - val_loss: 0.4167 - val_accuracy: 0.8879\n",
            "Epoch 37/50\n",
            "119/119 [==============================] - 2s 18ms/step - loss: 0.0919 - accuracy: 0.9786 - val_loss: 1.1014 - val_accuracy: 0.7801\n",
            "Epoch 38/50\n",
            "119/119 [==============================] - 2s 18ms/step - loss: 0.1314 - accuracy: 0.9604 - val_loss: 0.4386 - val_accuracy: 0.8795\n",
            "Epoch 39/50\n",
            "119/119 [==============================] - 2s 18ms/step - loss: 0.1293 - accuracy: 0.9633 - val_loss: 0.4751 - val_accuracy: 0.8774\n",
            "Epoch 40/50\n",
            "119/119 [==============================] - 2s 18ms/step - loss: 0.1618 - accuracy: 0.9527 - val_loss: 0.5205 - val_accuracy: 0.8467\n",
            "Epoch 41/50\n",
            "119/119 [==============================] - 3s 21ms/step - loss: 0.1025 - accuracy: 0.9744 - val_loss: 0.4895 - val_accuracy: 0.8795\n",
            "Epoch 42/50\n",
            "119/119 [==============================] - 2s 19ms/step - loss: 0.1094 - accuracy: 0.9723 - val_loss: 0.4508 - val_accuracy: 0.8742\n",
            "Epoch 43/50\n",
            "119/119 [==============================] - 2s 18ms/step - loss: 0.1128 - accuracy: 0.9696 - val_loss: 0.4320 - val_accuracy: 0.8753\n",
            "Epoch 44/50\n",
            "119/119 [==============================] - 2s 18ms/step - loss: 0.1040 - accuracy: 0.9757 - val_loss: 0.4114 - val_accuracy: 0.8837\n",
            "Epoch 45/50\n",
            "119/119 [==============================] - 2s 18ms/step - loss: 0.0769 - accuracy: 0.9844 - val_loss: 0.6516 - val_accuracy: 0.8552\n",
            "Epoch 46/50\n",
            "119/119 [==============================] - 2s 20ms/step - loss: 0.0724 - accuracy: 0.9839 - val_loss: 0.5847 - val_accuracy: 0.8552\n",
            "Epoch 47/50\n",
            "119/119 [==============================] - 3s 23ms/step - loss: 0.1135 - accuracy: 0.9710 - val_loss: 0.5054 - val_accuracy: 0.8848\n",
            "Epoch 48/50\n",
            "119/119 [==============================] - 2s 18ms/step - loss: 0.0742 - accuracy: 0.9826 - val_loss: 0.4744 - val_accuracy: 0.8742\n",
            "Epoch 49/50\n",
            "119/119 [==============================] - 2s 20ms/step - loss: 0.0697 - accuracy: 0.9855 - val_loss: 0.5068 - val_accuracy: 0.8837\n",
            "Epoch 50/50\n",
            "119/119 [==============================] - 2s 19ms/step - loss: 0.0801 - accuracy: 0.9805 - val_loss: 0.5012 - val_accuracy: 0.8742\n",
            "30/30 [==============================] - 0s 5ms/step - loss: 0.5012 - accuracy: 0.8742\n",
            "Accuracies per fold: [0.9017951488494873, 0.8743399977684021, 0.908130943775177, 0.8773784637451172, 0.8742071986198425]\n",
            "Zero-One Loss per fold: [0.0982048511505127, 0.1256600022315979, 0.091869056224823, 0.12262153625488281, 0.12579280138015747]\n",
            "Average Accuracy: 0.8871703505516052\n",
            "Average Zero-One Loss: 0.11282964944839477\n"
          ]
        }
      ],
      "source": [
        "with tf.device(device_name):\n",
        "  for train_index, test_index in kf.split(train_images):\n",
        "    # Subset the training data into training and validation sets\n",
        "    Train_images_cv, Val_images_cv = train_images[train_index], train_images[test_index]\n",
        "    Train_labels_cv, Val_labels_cv = train_labels[train_index], train_labels[test_index]\n",
        "\n",
        "    model_cv = Sequential([\n",
        "    InputLayer(input_shape=(100,100,1)),\n",
        "    Conv2D(64, (3, 3), activation='relu', padding='same'),\n",
        "    MaxPooling2D((4, 4)),\n",
        "    BatchNormalization(),\n",
        "    Conv2D(128, (3, 3), activation='relu', padding='same'),\n",
        "    MaxPooling2D((4, 4)),\n",
        "    BatchNormalization(),\n",
        "    Conv2D(128, (3, 3), activation='relu', padding='same'),\n",
        "    MaxPooling2D((4, 4)),\n",
        "    BatchNormalization(),\n",
        "    Flatten(),\n",
        "    Dense(128, activation='relu', kernel_regularizer=regularizers.l2(0.01)),\n",
        "    Dropout(0.7),\n",
        "    BatchNormalization(),\n",
        "    Dense(16, activation='relu'),\n",
        "    Dense(1, activation='sigmoid')\n",
        "])\n",
        "    model_cv.compile(loss='binary_crossentropy',optimizer=keras.optimizers.Adam(0.001),metrics=['accuracy'])\n",
        "    history_cv = model_cv.fit(Train_images_cv, Train_labels_cv, epochs=50, batch_size = 32, validation_data = (Val_images_cv, Val_labels_cv), callbacks=[es])\n",
        "\n",
        "    loss,acc = model_cv.evaluate(Val_images_cv,Val_labels_cv)\n",
        "    zero_one_loss = 1-acc\n",
        "    folds_loss.append(zero_one_loss)\n",
        "    folds_accuracy.append(acc)\n",
        "\n",
        "    print(\"Accuracies per fold:\", folds_accuracy)\n",
        "    print(\"Zero-One Loss per fold:\", folds_loss)\n",
        "    average_accuracy = np.mean(folds_accuracy)\n",
        "    print(\"Average Accuracy:\", average_accuracy)\n",
        "    average_loss = np.mean(folds_loss)\n",
        "    print(\"Average Zero-One Loss:\", average_loss)"
      ]
    }
  ],
  "metadata": {
    "accelerator": "GPU",
    "colab": {
      "gpuType": "T4",
      "provenance": []
    },
    "kernelspec": {
      "display_name": "Python 3",
      "name": "python3"
    },
    "language_info": {
      "name": "python"
    }
  },
  "nbformat": 4,
  "nbformat_minor": 0
}
